{
 "cells": [
  {
   "cell_type": "markdown",
   "metadata": {
    "button": false,
    "deletable": true,
    "new_sheet": false,
    "run_control": {
     "read_only": false
    }
   },
   "source": [
    "<h1 align=center><font size = 5><em></em>Part1 of Segmenting and Clustering Neighborhoods in Toronto by Haowen Wang</font></h1>"
   ]
  },
  {
   "cell_type": "markdown",
   "metadata": {},
   "source": [
    "## Part 1\n"
   ]
  },
  {
   "cell_type": "code",
   "execution_count": 4,
   "metadata": {
    "button": false,
    "collapsed": false,
    "deletable": true,
    "jupyter": {
     "outputs_hidden": false
    },
    "new_sheet": false,
    "run_control": {
     "read_only": false
    }
   },
   "outputs": [
    {
     "name": "stdout",
     "output_type": "stream",
     "text": [
      "Solving environment: done\n",
      "\n",
      "\n",
      "==> WARNING: A newer version of conda exists. <==\n",
      "  current version: 4.5.11\n",
      "  latest version: 4.8.1\n",
      "\n",
      "Please update conda by running\n",
      "\n",
      "    $ conda update -n base -c defaults conda\n",
      "\n",
      "\n",
      "\n",
      "# All requested packages already installed.\n",
      "\n",
      "Solving environment: done\n",
      "\n",
      "\n",
      "==> WARNING: A newer version of conda exists. <==\n",
      "  current version: 4.5.11\n",
      "  latest version: 4.8.1\n",
      "\n",
      "Please update conda by running\n",
      "\n",
      "    $ conda update -n base -c defaults conda\n",
      "\n",
      "\n",
      "\n",
      "# All requested packages already installed.\n",
      "\n",
      "Libraries imported.\n"
     ]
    }
   ],
   "source": [
    "import requests # library to handle requests\n",
    "!conda install -c conda-forge lxml==3.7.0 --yes # uncomment this line if you haven't completed the Foursquare API lab\n",
    "import lxml.html as lh\n",
    "import lxml\n",
    "import urllib.request\n",
    "import numpy as np # library to handle data in a vectorized manner\n",
    "import pandas as pd # library for data analsysis\n",
    "\n",
    "!conda install -c conda-forge beautifulsoup4 --yes # uncomment this line if you haven't completed the Foursquare API lab\n",
    "from bs4 import BeautifulSoup\n",
    "\n",
    "print('Libraries imported.')"
   ]
  },
  {
   "cell_type": "code",
   "execution_count": 5,
   "metadata": {
    "button": false,
    "collapsed": false,
    "deletable": true,
    "jupyter": {
     "outputs_hidden": false
    },
    "new_sheet": false,
    "run_control": {
     "read_only": false
    }
   },
   "outputs": [],
   "source": [
    "url = 'https://en.wikipedia.org/wiki/List_of_postal_codes_of_Canada:_M'"
   ]
  },
  {
   "cell_type": "markdown",
   "metadata": {},
   "source": [
    "#### Using bs4 to scrape"
   ]
  },
  {
   "cell_type": "code",
   "execution_count": 99,
   "metadata": {},
   "outputs": [
    {
     "name": "stderr",
     "output_type": "stream",
     "text": [
      "/home/jupyterlab/conda/envs/python/lib/python3.6/site-packages/ipykernel_launcher.py:13: SettingWithCopyWarning: \n",
      "A value is trying to be set on a copy of a slice from a DataFrame.\n",
      "Try using .loc[row_indexer,col_indexer] = value instead\n",
      "\n",
      "See the caveats in the documentation: http://pandas.pydata.org/pandas-docs/stable/user_guide/indexing.html#returning-a-view-versus-a-copy\n",
      "  del sys.path[0]\n"
     ]
    }
   ],
   "source": [
    "def scrape_data(cname = 'wikitable sortable', cols = 3):\n",
    "    page = urllib.request.urlopen(url).read()\n",
    "    soup = BeautifulSoup(page,'html.parser')\n",
    "    table = soup.find('table', class_ = cname)\n",
    "    header = [head.findAll(text = True)[0].strip() for head in table.find_all('th')]\n",
    "    data = [[da.findAll(text = True)[0].strip() for da in dat.find_all('td')] for dat in table.find_all('tr')]\n",
    "    data = [row for row in data if len(row) == cols]\n",
    "    data = pd.DataFrame(data, columns = header)\n",
    "    return data\n",
    "data = scrape_data()\n",
    "data = data[~data['Borough'].str.contains('Not assigned')]\n",
    "\n",
    "data[data['Neighbourhood']=='Not assigned']['Neighbourhood'] = data[data['Neighbourhood']=='Not assigned']['Borough']\n",
    "\n"
   ]
  },
  {
   "cell_type": "code",
   "execution_count": 115,
   "metadata": {},
   "outputs": [
    {
     "name": "stdout",
     "output_type": "stream",
     "text": [
      "If ‘Not assigned’ in the Neighbourhood?: False\n"
     ]
    }
   ],
   "source": [
    "# data.columns[' '] = []\n",
    "Nei = []\n",
    "Bor = []\n",
    "Pos = []\n",
    "for i in data['Postcode'].unique():\n",
    "    temp = data[data['Postcode']==i]\n",
    "    Pos.append(i)\n",
    "    Nei.append(list(temp['Neighbourhood'].unique()))\n",
    "    Bor.append(list(temp['Borough'].unique()))\n",
    "\n",
    "# verify that if neibourhood has 'Not assigned'\n",
    "print('If ‘Not assigned’ in the Neighbourhood?:','Not assigned' in Nei)       "
   ]
  },
  {
   "cell_type": "code",
   "execution_count": 127,
   "metadata": {},
   "outputs": [
    {
     "data": {
      "text/html": [
       "<div>\n",
       "<style scoped>\n",
       "    .dataframe tbody tr th:only-of-type {\n",
       "        vertical-align: middle;\n",
       "    }\n",
       "\n",
       "    .dataframe tbody tr th {\n",
       "        vertical-align: top;\n",
       "    }\n",
       "\n",
       "    .dataframe thead th {\n",
       "        text-align: right;\n",
       "    }\n",
       "</style>\n",
       "<table border=\"1\" class=\"dataframe\">\n",
       "  <thead>\n",
       "    <tr style=\"text-align: right;\">\n",
       "      <th></th>\n",
       "      <th>Postcode</th>\n",
       "      <th>Borough</th>\n",
       "      <th>Neighbourhood</th>\n",
       "    </tr>\n",
       "  </thead>\n",
       "  <tbody>\n",
       "    <tr>\n",
       "      <th>0</th>\n",
       "      <td>M1B</td>\n",
       "      <td>[Scarborough]</td>\n",
       "      <td>[Rouge, Malvern]</td>\n",
       "    </tr>\n",
       "    <tr>\n",
       "      <th>1</th>\n",
       "      <td>M1C</td>\n",
       "      <td>[Scarborough]</td>\n",
       "      <td>[Highland Creek, Rouge Hill, Port Union]</td>\n",
       "    </tr>\n",
       "    <tr>\n",
       "      <th>2</th>\n",
       "      <td>M1E</td>\n",
       "      <td>[Scarborough]</td>\n",
       "      <td>[Guildwood, Morningside, West Hill]</td>\n",
       "    </tr>\n",
       "    <tr>\n",
       "      <th>3</th>\n",
       "      <td>M1G</td>\n",
       "      <td>[Scarborough]</td>\n",
       "      <td>[Woburn]</td>\n",
       "    </tr>\n",
       "    <tr>\n",
       "      <th>4</th>\n",
       "      <td>M1H</td>\n",
       "      <td>[Scarborough]</td>\n",
       "      <td>[Cedarbrae]</td>\n",
       "    </tr>\n",
       "    <tr>\n",
       "      <th>...</th>\n",
       "      <td>...</td>\n",
       "      <td>...</td>\n",
       "      <td>...</td>\n",
       "    </tr>\n",
       "    <tr>\n",
       "      <th>98</th>\n",
       "      <td>M9N</td>\n",
       "      <td>[York]</td>\n",
       "      <td>[Weston]</td>\n",
       "    </tr>\n",
       "    <tr>\n",
       "      <th>99</th>\n",
       "      <td>M9P</td>\n",
       "      <td>[Etobicoke]</td>\n",
       "      <td>[Westmount]</td>\n",
       "    </tr>\n",
       "    <tr>\n",
       "      <th>100</th>\n",
       "      <td>M9R</td>\n",
       "      <td>[Etobicoke]</td>\n",
       "      <td>[Kingsview Village, Martin Grove Gardens, Rich...</td>\n",
       "    </tr>\n",
       "    <tr>\n",
       "      <th>101</th>\n",
       "      <td>M9V</td>\n",
       "      <td>[Etobicoke]</td>\n",
       "      <td>[Albion Gardens, Beaumond Heights, Humbergate,...</td>\n",
       "    </tr>\n",
       "    <tr>\n",
       "      <th>102</th>\n",
       "      <td>M9W</td>\n",
       "      <td>[Etobicoke]</td>\n",
       "      <td>[Northwest]</td>\n",
       "    </tr>\n",
       "  </tbody>\n",
       "</table>\n",
       "<p>103 rows × 3 columns</p>\n",
       "</div>"
      ],
      "text/plain": [
       "    Postcode        Borough                                      Neighbourhood\n",
       "0        M1B  [Scarborough]                                   [Rouge, Malvern]\n",
       "1        M1C  [Scarborough]           [Highland Creek, Rouge Hill, Port Union]\n",
       "2        M1E  [Scarborough]                [Guildwood, Morningside, West Hill]\n",
       "3        M1G  [Scarborough]                                           [Woburn]\n",
       "4        M1H  [Scarborough]                                        [Cedarbrae]\n",
       "..       ...            ...                                                ...\n",
       "98       M9N         [York]                                           [Weston]\n",
       "99       M9P    [Etobicoke]                                        [Westmount]\n",
       "100      M9R    [Etobicoke]  [Kingsview Village, Martin Grove Gardens, Rich...\n",
       "101      M9V    [Etobicoke]  [Albion Gardens, Beaumond Heights, Humbergate,...\n",
       "102      M9W    [Etobicoke]                                        [Northwest]\n",
       "\n",
       "[103 rows x 3 columns]"
      ]
     },
     "execution_count": 127,
     "metadata": {},
     "output_type": "execute_result"
    }
   ],
   "source": [
    "temp = data.groupby('Postcode')\n",
    "data_Toronto = pd.DataFrame({'Postcode':Pos, 'Borough':Bor, 'Neighbourhood':Nei})\n",
    "data_Toronto.sort_values('Postcode', inplace = True)\n",
    "data_Toronto.reset_index(inplace = True)\n",
    "data_Toronto = data_Toronto.iloc[:,1:]\n",
    "data_Toronto"
   ]
  },
  {
   "cell_type": "code",
   "execution_count": 128,
   "metadata": {},
   "outputs": [],
   "source": [
    "data_Toronto.to_csv('data.csv', index = False)"
   ]
  },
  {
   "cell_type": "code",
   "execution_count": 129,
   "metadata": {},
   "outputs": [
    {
     "data": {
      "text/plain": [
       "(103, 3)"
      ]
     },
     "execution_count": 129,
     "metadata": {},
     "output_type": "execute_result"
    }
   ],
   "source": [
    "data_Toronto.shape"
   ]
  }
 ],
 "metadata": {
  "kernelspec": {
   "display_name": "Python",
   "language": "python",
   "name": "conda-env-python-py"
  },
  "language_info": {
   "codemirror_mode": {
    "name": "ipython",
    "version": 3
   },
   "file_extension": ".py",
   "mimetype": "text/x-python",
   "name": "python",
   "nbconvert_exporter": "python",
   "pygments_lexer": "ipython3",
   "version": "3.6.7"
  },
  "widgets": {
   "state": {},
   "version": "1.1.2"
  }
 },
 "nbformat": 4,
 "nbformat_minor": 4
}

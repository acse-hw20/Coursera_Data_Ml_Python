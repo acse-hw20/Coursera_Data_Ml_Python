{
 "cells": [
  {
   "cell_type": "markdown",
   "metadata": {},
   "source": [
    "# Capstone_Project_intoduction"
   ]
  },
  {
   "cell_type": "markdown",
   "metadata": {},
   "source": [
    "## A Recommend living place for relaxing travel in Toronto by Haowen"
   ]
  },
  {
   "cell_type": "markdown",
   "metadata": {},
   "source": [
    "### Part 1: Describe Problem"
   ]
  },
  {
   "cell_type": "markdown",
   "metadata": {
    "button": false,
    "deletable": true,
    "jupyter": {
     "outputs_hidden": false
    },
    "new_sheet": false,
    "run_control": {
     "read_only": false
    }
   },
   "source": [
    "Toronto can be a famous place for tourists from all over the world, and it has many tourist attractions in the old Toronto (East/ Central/ Downtown/ West Toronto). So when tourists want to have a visit to old Toronto, they have to choose a place to live. For tourists who want to experience the life of Toronto residents, variable venues can be necessary. This recommend system is designed to help tourists to choose the best place to live in Toronto. To some extent, better place means better quality of holiday."
   ]
  },
  {
   "cell_type": "markdown",
   "metadata": {},
   "source": [
    "For example, if the place tourists choose is far away from the recreational facilities, it means that they need to spend a lot of time for commuting. For people who do not want to live in the downtown, the bus station and subway station can be important so that they can guarantee them to go to other place more convenient."
   ]
  },
  {
   "cell_type": "markdown",
   "metadata": {},
   "source": [
    "The tourists should choose place to stay where is closest to much more different venues so that they can experience the life of local residents more conveniently. Restaurant and commuting station can be important because they are related to daily life."
   ]
  },
  {
   "cell_type": "markdown",
   "metadata": {},
   "source": [
    "### Part 2: Data prepared"
   ]
  },
  {
   "cell_type": "markdown",
   "metadata": {},
   "source": [
    "#### How I get the data"
   ]
  },
  {
   "cell_type": "markdown",
   "metadata": {},
   "source": [
    "We will need location data information about venues inside old Toronto borough, in fact, we have acquire borough data in Toronto ahead. And what I need to do is to filter the old Toronto borough data (East/ Central/ Downtown/ West Toronto). Then by using the Foursquare API, I got different venues' data in different neighborhoods in old Toronto borough. These data covers the location of the venues, the name of the venues and its neighborhoods. And the most important, the venues' Category and the venues' summary."
   ]
  },
  {
   "cell_type": "markdown",
   "metadata": {},
   "source": [
    "#### How we use the data"
   ]
  },
  {
   "cell_type": "markdown",
   "metadata": {},
   "source": [
    "We will first filter the tourists place where is popular, because they are the most attractive to tourists, then we will use the K-Means algorithm to analyze the data so that we can find the best neighborhood for tourists to live, where can guarantee the most variable of venues in old Toronto. In fact, we may assign a weight to different types of venues according to my later research so that it can make my recommend system more scientific and effective."
   ]
  }
 ],
 "metadata": {
  "kernelspec": {
   "display_name": "Python",
   "language": "python",
   "name": "conda-env-python-py"
  },
  "language_info": {
   "codemirror_mode": {
    "name": "ipython",
    "version": 3
   },
   "file_extension": ".py",
   "mimetype": "text/x-python",
   "name": "python",
   "nbconvert_exporter": "python",
   "pygments_lexer": "ipython3",
   "version": "3.6.7"
  },
  "widgets": {
   "state": {},
   "version": "1.1.2"
  }
 },
 "nbformat": 4,
 "nbformat_minor": 4
}

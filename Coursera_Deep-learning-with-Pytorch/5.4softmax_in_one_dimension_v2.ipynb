{
 "cells": [
  {
   "cell_type": "markdown",
   "metadata": {},
   "source": [
    "<a href=\"http://cocl.us/pytorch_link_top\">\n",
    "    <img src=\"https://s3-api.us-geo.objectstorage.softlayer.net/cf-courses-data/CognitiveClass/DL0110EN/notebook_images%20/Pytochtop.png\" width=\"750\" alt=\"IBM Product \" />\n",
    "</a> "
   ]
  },
  {
   "cell_type": "markdown",
   "metadata": {},
   "source": [
    "<img src=\"https://s3-api.us-geo.objectstorage.softlayer.net/cf-courses-data/CognitiveClass/DL0110EN/notebook_images%20/cc-logo-square.png\" width=\"200\" alt=\"cognitiveclass.ai logo\" />"
   ]
  },
  {
   "cell_type": "markdown",
   "metadata": {},
   "source": [
    "<h1>Softmax Classifer 1D</h1>"
   ]
  },
  {
   "cell_type": "markdown",
   "metadata": {},
   "source": [
    "<h2>Table of Contents</h2>\n",
    "<p>In this lab, you will use Softmax to classify three linearly separable classes, the features are in one dimension </p>\n",
    "<ul>\n",
    "    <li><a href=\"#Makeup_Data\">Make Some Data</a></li>\n",
    "    <li><a href=\"#Softmax\">Build Softmax Classifier</a></li>\n",
    "    <li><a href=\"#Model_Cost\">Train the Model</a></li>\n",
    "    <li><a href=\"#Result\">Analyze Results</a></li>\n",
    "</ul>\n",
    "<p>Estimated Time Needed: <strong>25 min</strong></p>\n",
    "\n",
    "<hr>"
   ]
  },
  {
   "cell_type": "markdown",
   "metadata": {},
   "source": [
    "<h2>Preparation</h2>"
   ]
  },
  {
   "cell_type": "markdown",
   "metadata": {},
   "source": [
    "We'll need the following libraries:"
   ]
  },
  {
   "cell_type": "code",
   "execution_count": 1,
   "metadata": {},
   "outputs": [],
   "source": [
    "# Import the libraries we need for this lab\n",
    "\n",
    "import torch.nn as nn\n",
    "import torch\n",
    "import matplotlib.pyplot as plt \n",
    "import numpy as np\n",
    "from torch.utils.data import Dataset, DataLoader"
   ]
  },
  {
   "cell_type": "markdown",
   "metadata": {},
   "source": [
    "Use the helper function to plot labeled data points: "
   ]
  },
  {
   "cell_type": "code",
   "execution_count": 2,
   "metadata": {},
   "outputs": [],
   "source": [
    "# Create class for plotting\n",
    "\n",
    "def plot_data(data_set, model = None, n = 1, color = False):\n",
    "    X = data_set[:][0]\n",
    "    Y = data_set[:][1]\n",
    "    plt.plot(X[Y == 0, 0].numpy(), Y[Y == 0].numpy(), 'bo', label = 'y = 0')\n",
    "    plt.plot(X[Y == 1, 0].numpy(), 0 * Y[Y == 1].numpy(), 'ro', label = 'y = 1')\n",
    "    plt.plot(X[Y == 2, 0].numpy(), 0 * Y[Y == 2].numpy(), 'go', label = 'y = 2')\n",
    "    plt.ylim((-0.1, 3))\n",
    "    plt.legend()\n",
    "    if model != None:\n",
    "        w = list(model.parameters())[0][0].detach()\n",
    "        b = list(model.parameters())[1][0].detach()\n",
    "        y_label = ['yhat=0', 'yhat=1', 'yhat=2']\n",
    "        y_color = ['b', 'r', 'g']\n",
    "        Y = []\n",
    "        for w, b, y_l, y_c in zip(model.state_dict()['0.weight'], model.state_dict()['0.bias'], y_label, y_color):\n",
    "            Y.append((w * X + b).numpy())\n",
    "            plt.plot(X.numpy(), (w * X + b).numpy(), y_c, label = y_l)\n",
    "        if color == True:\n",
    "            x = X.numpy()\n",
    "            x = x.reshape(-1)\n",
    "            top = np.ones(x.shape)\n",
    "            y0 = Y[0].reshape(-1)\n",
    "            y1 = Y[1].reshape(-1)\n",
    "            y2 = Y[2].reshape(-1)\n",
    "            plt.fill_between(x, y0, where = y1 > y1, interpolate = True, color = 'blue')\n",
    "            plt.fill_between(x, y0, where = y1 > y2, interpolate = True, color = 'blue')\n",
    "            plt.fill_between(x, y1, where = y1 > y0, interpolate = True, color = 'red')\n",
    "            plt.fill_between(x, y1, where = ((y1 > y2) * (y1 > y0)),interpolate = True, color = 'red')\n",
    "            plt.fill_between(x, y2, where = (y2 > y0) * (y0 > 0),interpolate = True, color = 'green')\n",
    "            plt.fill_between(x, y2, where = (y2 > y1), interpolate = True, color = 'green')\n",
    "    plt.legend()\n",
    "    plt.show()"
   ]
  },
  {
   "cell_type": "markdown",
   "metadata": {},
   "source": [
    "Set the random seed:"
   ]
  },
  {
   "cell_type": "code",
   "execution_count": 3,
   "metadata": {},
   "outputs": [
    {
     "data": {
      "text/plain": [
       "<torch._C.Generator at 0x7fecf8106070>"
      ]
     },
     "execution_count": 3,
     "metadata": {},
     "output_type": "execute_result"
    }
   ],
   "source": [
    "#Set the random seed\n",
    "\n",
    "torch.manual_seed(0)"
   ]
  },
  {
   "cell_type": "markdown",
   "metadata": {},
   "source": [
    "<!--Empty Space for separating topics-->"
   ]
  },
  {
   "cell_type": "markdown",
   "metadata": {},
   "source": [
    "<h2 id=\"Makeup_Data\">Make Some Data</h2> "
   ]
  },
  {
   "cell_type": "markdown",
   "metadata": {},
   "source": [
    "Create some linearly separable data with three classes: "
   ]
  },
  {
   "cell_type": "code",
   "execution_count": 4,
   "metadata": {},
   "outputs": [],
   "source": [
    "# Create the data class\n",
    "\n",
    "class Data(Dataset):\n",
    "    \n",
    "    # Constructor\n",
    "    def __init__(self):\n",
    "        self.x = torch.arange(-2, 2, 0.1).view(-1, 1)\n",
    "        self.y = torch.zeros(self.x.shape[0])\n",
    "        self.y[(self.x > -1.0)[:, 0] * (self.x < 1.0)[:, 0]] = 1\n",
    "        self.y[(self.x >= 1.0)[:, 0]] = 2\n",
    "        self.y = self.y.type(torch.LongTensor)\n",
    "        self.len = self.x.shape[0]\n",
    "        \n",
    "    # Getter\n",
    "    def __getitem__(self,index):      \n",
    "        return self.x[index], self.y[index]\n",
    "    \n",
    "    # Get Length\n",
    "    def __len__(self):\n",
    "        return self.len"
   ]
  },
  {
   "cell_type": "markdown",
   "metadata": {},
   "source": [
    "Create the dataset object:"
   ]
  },
  {
   "cell_type": "code",
   "execution_count": 6,
   "metadata": {},
   "outputs": [
    {
     "data": {
      "image/png": "[encoded data removed]",
      "text/plain": [
       "<Figure size 432x288 with 1 Axes>"
      ]
     },
     "metadata": {
      "needs_background": "light"
     },
     "output_type": "display_data"
    }
   ],
   "source": [
    "# Create the dataset object and plot the dataset object\n",
    "\n",
    "data_set = Data()\n",
    "data_set.x\n",
    "plot_data(data_set)"
   ]
  },
  {
   "cell_type": "markdown",
   "metadata": {},
   "source": [
    "<!--Empty Space for separating topics-->"
   ]
  },
  {
   "cell_type": "markdown",
   "metadata": {},
   "source": [
    "<h2 id=\"Softmax\">Build a Softmax Classifier </h2>"
   ]
  },
  {
   "cell_type": "markdown",
   "metadata": {},
   "source": [
    "Build a Softmax classifier by using the Sequential module:"
   ]
  },
  {
   "cell_type": "code",
   "execution_count": 7,
   "metadata": {},
   "outputs": [
    {
     "data": {
      "text/plain": [
       "OrderedDict([('0.weight', tensor([[-0.0075],\n",
       "                      [ 0.5364],\n",
       "                      [-0.8230]])),\n",
       "             ('0.bias', tensor([-0.7359, -0.3852,  0.2682]))])"
      ]
     },
     "execution_count": 7,
     "metadata": {},
     "output_type": "execute_result"
    }
   ],
   "source": [
    "# Build Softmax Classifier technically you only need nn.Linear\n",
    "\n",
    "model = nn.Sequential(nn.Linear(1, 3))\n",
    "model.state_dict()"
   ]
  },
  {
   "cell_type": "markdown",
   "metadata": {},
   "source": [
    "<!--Empty Space for separating topics-->"
   ]
  },
  {
   "cell_type": "markdown",
   "metadata": {},
   "source": [
    "<h2 id=\"Model\">Train the Model</h2> "
   ]
  },
  {
   "cell_type": "markdown",
   "metadata": {},
   "source": [
    "Create the criterion function, the optimizer and the dataloader"
   ]
  },
  {
   "cell_type": "code",
   "execution_count": 24,
   "metadata": {},
   "outputs": [],
   "source": [
    "# Create criterion function, optimizer, and dataloader\n",
    "\n",
    "criterion = nn.CrossEntropyLoss()\n",
    "optimizer = torch.optim.SGD(model.parameters(), lr = 0.01)\n",
    "trainloader = DataLoader(dataset = data_set, batch_size = 5)"
   ]
  },
  {
   "cell_type": "code",
   "execution_count": 25,
   "metadata": {},
   "outputs": [
    {
     "name": "stdout",
     "output_type": "stream",
     "text": [
      "y =  tensor([0, 0, 0, 0, 0])\n",
      "yhat =  tensor([[ 3.7019,  1.1621, -5.1287],\n",
      "        [ 3.4652,  1.1572, -4.9166],\n",
      "        [ 3.2285,  1.1523, -4.7044],\n",
      "        [ 2.9918,  1.1474, -4.4922],\n",
      "        [ 2.7551,  1.1425, -4.2800]], grad_fn=<AddmmBackward>)\n",
      "0.12387263774871826\n",
      "y =  tensor([0, 0, 0, 0, 0])\n",
      "yhat =  tensor([[ 2.5184,  1.1376, -4.0678],\n",
      "        [ 2.2818,  1.1326, -3.8556],\n",
      "        [ 2.0451,  1.1277, -3.6434],\n",
      "        [ 1.8084,  1.1228, -3.4312],\n",
      "        [ 1.5717,  1.1179, -3.2190]], grad_fn=<AddmmBackward>)\n",
      "0.3498409390449524\n",
      "y =  tensor([0, 1, 1, 1, 1])\n",
      "yhat =  tensor([[ 1.3350,  1.1130, -3.0069],\n",
      "        [ 1.0983,  1.1081, -2.7947],\n",
      "        [ 0.8617,  1.1032, -2.5825],\n",
      "        [ 0.6250,  1.0982, -2.3703],\n",
      "        [ 0.3883,  1.0933, -2.1581]], grad_fn=<AddmmBackward>)\n",
      "0.5635700225830078\n",
      "y =  tensor([1, 1, 1, 1, 1])\n",
      "yhat =  tensor([[ 0.1516,  1.0884, -1.9459],\n",
      "        [-0.0851,  1.0835, -1.7337],\n",
      "        [-0.3218,  1.0786, -1.5215],\n",
      "        [-0.5584,  1.0737, -1.3093],\n",
      "        [-0.7951,  1.0688, -1.0971]], grad_fn=<AddmmBackward>)\n",
      "0.2899600863456726\n",
      "y =  tensor([1, 1, 1, 1, 1])\n",
      "yhat =  tensor([[-1.0318,  1.0638, -0.8850],\n",
      "        [-1.2685,  1.0589, -0.6728],\n",
      "        [-1.5052,  1.0540, -0.4606],\n",
      "        [-1.7419,  1.0491, -0.2484],\n",
      "        [-1.9786,  1.0442, -0.0362]], grad_fn=<AddmmBackward>)\n",
      "0.2709648609161377\n",
      "y =  tensor([1, 1, 1, 1, 1])\n",
      "yhat =  tensor([[-2.2152,  1.0393,  0.1760],\n",
      "        [-2.4519,  1.0344,  0.3882],\n",
      "        [-2.6886,  1.0294,  0.6004],\n",
      "        [-2.9253,  1.0245,  0.8126],\n",
      "        [-3.1620,  1.0196,  1.0247]], grad_fn=<AddmmBackward>)\n",
      "0.5285317301750183\n",
      "y =  tensor([2, 2, 2, 2, 2])\n",
      "yhat =  tensor([[-3.3987,  1.0147,  1.2369],\n",
      "        [-3.6353,  1.0098,  1.4491],\n",
      "        [-3.8720,  1.0049,  1.6613],\n",
      "        [-4.1087,  1.0000,  1.8735],\n",
      "        [-4.3454,  0.9950,  2.0857]], grad_fn=<AddmmBackward>)\n",
      "0.43134361505508423\n",
      "y =  tensor([2, 2, 2, 2, 2])\n",
      "yhat =  tensor([[-4.5821,  0.9901,  2.2979],\n",
      "        [-4.8188,  0.9852,  2.5101],\n",
      "        [-5.0554,  0.9803,  2.7223],\n",
      "        [-5.2921,  0.9754,  2.9344],\n",
      "        [-5.5288,  0.9705,  3.1466]], grad_fn=<AddmmBackward>)\n",
      "0.16783395409584045\n"
     ]
    }
   ],
   "source": [
    "for x, y in trainloader:\n",
    "    yhat = model(x)\n",
    "    print('y = ',y)\n",
    "    print('yhat = ', yhat)\n",
    "    loss = criterion(yhat, y)\n",
    "    print(loss.item())"
   ]
  },
  {
   "cell_type": "markdown",
   "metadata": {},
   "source": [
    "Train the model for every 50 epochs plot, the line generated for each class."
   ]
  },
  {
   "cell_type": "code",
   "execution_count": 26,
   "metadata": {},
   "outputs": [
    {
     "data": {
      "image/png": "[encoded data removed]",
      "text/plain": [
       "<Figure size 432x288 with 1 Axes>"
      ]
     },
     "metadata": {
      "needs_background": "light"
     },
     "output_type": "display_data"
    },
    {
     "data": {
      "image/png": "[encoded data removed]",
      "text/plain": [
       "<Figure size 432x288 with 1 Axes>"
      ]
     },
     "metadata": {
      "needs_background": "light"
     },
     "output_type": "display_data"
    },
    {
     "data": {
      "image/png": "[encoded data removed]",
      "text/plain": [
       "<Figure size 432x288 with 1 Axes>"
      ]
     },
     "metadata": {
      "needs_background": "light"
     },
     "output_type": "display_data"
    },
    {
     "data": {
      "image/png": "[encoded data removed]",
      "text/plain": [
       "<Figure size 432x288 with 1 Axes>"
      ]
     },
     "metadata": {
      "needs_background": "light"
     },
     "output_type": "display_data"
    },
    {
     "data": {
      "image/png": "[encoded data removed]",
      "text/plain": [
       "<Figure size 432x288 with 1 Axes>"
      ]
     },
     "metadata": {
      "needs_background": "light"
     },
     "output_type": "display_data"
    },
    {
     "data": {
      "image/png": "[encoded data removed]",
      "text/plain": [
       "<Figure size 432x288 with 1 Axes>"
      ]
     },
     "metadata": {
      "needs_background": "light"
     },
     "output_type": "display_data"
    }
   ],
   "source": [
    "# Train the model\n",
    "\n",
    "LOSS = []\n",
    "def train_model(epochs):\n",
    "    for epoch in range(epochs):\n",
    "        if epoch % 50 == 0:\n",
    "            pass\n",
    "            plot_data(data_set, model)\n",
    "        for x, y in trainloader:\n",
    "            optimizer.zero_grad()\n",
    "            yhat = model(x)\n",
    "            loss = criterion(yhat, y)\n",
    "            LOSS.append(loss)\n",
    "            loss.backward()\n",
    "            optimizer.step()\n",
    "train_model(300)"
   ]
  },
  {
   "cell_type": "markdown",
   "metadata": {},
   "source": [
    "<!--Empty Space for separating topics-->"
   ]
  },
  {
   "cell_type": "markdown",
   "metadata": {},
   "source": [
    "<h2 id=\"Result\">Analyze Results</h2> "
   ]
  },
  {
   "cell_type": "markdown",
   "metadata": {},
   "source": [
    "Find the predicted class on the test data: "
   ]
  },
  {
   "cell_type": "code",
   "execution_count": 27,
   "metadata": {},
   "outputs": [
    {
     "name": "stdout",
     "output_type": "stream",
     "text": [
      "The prediction: tensor([0, 0, 0, 0, 0, 0, 0, 0, 0, 0, 0, 1, 1, 1, 1, 1, 1, 1, 1, 1, 1, 1, 1, 1,\n",
      "        1, 1, 1, 1, 1, 1, 2, 2, 2, 2, 2, 2, 2, 2, 2, 2])\n",
      "tensor([[ 5.1605e+00,  1.7499e+00, -7.1751e+00],\n",
      "        [ 4.8380e+00,  1.7435e+00, -6.8756e+00],\n",
      "        [ 4.5155e+00,  1.7370e+00, -6.5761e+00],\n",
      "        [ 4.1930e+00,  1.7305e+00, -6.2765e+00],\n",
      "        [ 3.8705e+00,  1.7241e+00, -5.9770e+00],\n",
      "        [ 3.5480e+00,  1.7176e+00, -5.6774e+00],\n",
      "        [ 3.2255e+00,  1.7112e+00, -5.3779e+00],\n",
      "        [ 2.9030e+00,  1.7047e+00, -5.0784e+00],\n",
      "        [ 2.5805e+00,  1.6982e+00, -4.7788e+00],\n",
      "        [ 2.2581e+00,  1.6918e+00, -4.4793e+00],\n",
      "        [ 1.9356e+00,  1.6853e+00, -4.1797e+00],\n",
      "        [ 1.6131e+00,  1.6789e+00, -3.8802e+00],\n",
      "        [ 1.2906e+00,  1.6724e+00, -3.5806e+00],\n",
      "        [ 9.6810e-01,  1.6659e+00, -3.2811e+00],\n",
      "        [ 6.4561e-01,  1.6595e+00, -2.9816e+00],\n",
      "        [ 3.2312e-01,  1.6530e+00, -2.6820e+00],\n",
      "        [ 6.3200e-04,  1.6465e+00, -2.3825e+00],\n",
      "        [-3.2186e-01,  1.6401e+00, -2.0829e+00],\n",
      "        [-6.4435e-01,  1.6336e+00, -1.7834e+00],\n",
      "        [-9.6683e-01,  1.6272e+00, -1.4839e+00],\n",
      "        [-1.2893e+00,  1.6207e+00, -1.1843e+00],\n",
      "        [-1.6118e+00,  1.6142e+00, -8.8477e-01],\n",
      "        [-1.9343e+00,  1.6078e+00, -5.8523e-01],\n",
      "        [-2.2568e+00,  1.6013e+00, -2.8569e-01],\n",
      "        [-2.5793e+00,  1.5949e+00,  1.3853e-02],\n",
      "        [-2.9018e+00,  1.5884e+00,  3.1339e-01],\n",
      "        [-3.2243e+00,  1.5819e+00,  6.1294e-01],\n",
      "        [-3.5467e+00,  1.5755e+00,  9.1248e-01],\n",
      "        [-3.8692e+00,  1.5690e+00,  1.2120e+00],\n",
      "        [-4.1917e+00,  1.5625e+00,  1.5116e+00],\n",
      "        [-4.5142e+00,  1.5561e+00,  1.8111e+00],\n",
      "        [-4.8367e+00,  1.5496e+00,  2.1106e+00],\n",
      "        [-5.1592e+00,  1.5432e+00,  2.4102e+00],\n",
      "        [-5.4817e+00,  1.5367e+00,  2.7097e+00],\n",
      "        [-5.8042e+00,  1.5302e+00,  3.0093e+00],\n",
      "        [-6.1267e+00,  1.5238e+00,  3.3088e+00],\n",
      "        [-6.4491e+00,  1.5173e+00,  3.6084e+00],\n",
      "        [-6.7716e+00,  1.5109e+00,  3.9079e+00],\n",
      "        [-7.0941e+00,  1.5044e+00,  4.2074e+00],\n",
      "        [-7.4166e+00,  1.4979e+00,  4.5070e+00]], grad_fn=<AddmmBackward>)\n"
     ]
    }
   ],
   "source": [
    "# Make the prediction\n",
    "\n",
    "z =  model(data_set.x)\n",
    "_, yhat = z.max(1)\n",
    "print(\"The prediction:\", yhat)\n",
    "print(z)\n"
   ]
  },
  {
   "cell_type": "markdown",
   "metadata": {},
   "source": [
    "Calculate the accuracy on the test data:"
   ]
  },
  {
   "cell_type": "code",
   "execution_count": 28,
   "metadata": {},
   "outputs": [
    {
     "name": "stdout",
     "output_type": "stream",
     "text": [
      "The accuracy:  1.0\n"
     ]
    }
   ],
   "source": [
    "# Print the accuracy\n",
    "\n",
    "correct = (data_set.y == yhat).sum().item()\n",
    "accuracy = correct / len(data_set)\n",
    "print(\"The accuracy: \", accuracy)"
   ]
  },
  {
   "cell_type": "markdown",
   "metadata": {},
   "source": [
    "You can also use the softmax function to convert the output to a probability,first, we create a Softmax object:"
   ]
  },
  {
   "cell_type": "code",
   "execution_count": 29,
   "metadata": {},
   "outputs": [],
   "source": [
    "Softmax_fn=nn.Softmax(dim=-1)"
   ]
  },
  {
   "cell_type": "markdown",
   "metadata": {},
   "source": [
    "The result is a tensor <code> Probability </code>, where each row corresponds to a different sample, and each column corresponds to that sample  belonging to a particular class"
   ]
  },
  {
   "cell_type": "code",
   "execution_count": 30,
   "metadata": {},
   "outputs": [],
   "source": [
    "Probability =Softmax_fn(z)"
   ]
  },
  {
   "cell_type": "markdown",
   "metadata": {},
   "source": [
    "we can obtain the probability of the first sample belonging to the first, second and third class respectively as follows:"
   ]
  },
  {
   "cell_type": "code",
   "execution_count": 31,
   "metadata": {},
   "outputs": [
    {
     "name": "stdout",
     "output_type": "stream",
     "text": [
      "probability of class 0 isg given by  0.9680275321006775\n",
      "probability of class 1 isg given by  0.03196820616722107\n",
      "probability of class 2 isg given by  4.2521041905274615e-06\n"
     ]
    }
   ],
   "source": [
    "for i in range(3):\n",
    "    print(\"probability of class {} isg given by  {}\".format(i, Probability[0,i]) )"
   ]
  },
  {
   "cell_type": "markdown",
   "metadata": {},
   "source": [
    "<!--Empty Space for separating topics-->"
   ]
  },
  {
   "cell_type": "markdown",
   "metadata": {},
   "source": [
    "<a href=\"http://cocl.us/pytorch_link_bottom\">\n",
    "    <img src=\"https://s3-api.us-geo.objectstorage.softlayer.net/cf-courses-data/CognitiveClass/DL0110EN/notebook_images%20/notebook_bottom%20.png\" width=\"750\" alt=\"PyTorch Bottom\" />\n",
    "</a>"
   ]
  },
  {
   "cell_type": "markdown",
   "metadata": {},
   "source": [
    "<h2>About the Authors:</h2> \n",
    "\n",
    "<a href=\"https://www.linkedin.com/in/joseph-s-50398b136/\">Joseph Santarcangelo</a> has a PhD in Electrical Engineering, his research focused on using machine learning, signal processing, and computer vision to determine how videos impact human cognition. Joseph has been working for IBM since he completed his PhD. "
   ]
  },
  {
   "cell_type": "markdown",
   "metadata": {},
   "source": [
    "Other contributors: <a href=\"https://www.linkedin.com/in/michelleccarey/\">Michelle Carey</a>, <a href=\"www.linkedin.com/in/jiahui-mavis-zhou-a4537814a\">Mavis Zhou</a>"
   ]
  },
  {
   "cell_type": "markdown",
   "metadata": {},
   "source": [
    "<hr>"
   ]
  },
  {
   "cell_type": "markdown",
   "metadata": {},
   "source": [
    "Copyright &copy; 2018 <a href=\"cognitiveclass.ai?utm_source=bducopyrightlink&utm_medium=dswb&utm_campaign=bdu\">cognitiveclass.ai</a>. This notebook and its source code are released under the terms of the <a href=\"https://bigdatauniversity.com/mit-license/\">MIT License</a>."
   ]
  }
 ],
 "metadata": {
  "kernelspec": {
   "display_name": "Python",
   "language": "python",
   "name": "conda-env-python-py"
  },
  "language_info": {
   "codemirror_mode": {
    "name": "ipython",
    "version": 3
   },
   "file_extension": ".py",
   "mimetype": "text/x-python",
   "name": "python",
   "nbconvert_exporter": "python",
   "pygments_lexer": "ipython3",
   "version": "3.6.7"
  }
 },
 "nbformat": 4,
 "nbformat_minor": 4
}
